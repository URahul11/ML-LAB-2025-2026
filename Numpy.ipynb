{
  "nbformat": 4,
  "nbformat_minor": 0,
  "metadata": {
    "colab": {
      "provenance": [],
      "authorship_tag": "ABX9TyOWEkT6e4LWxRXV/SfULZoZ",
      "include_colab_link": true
    },
    "kernelspec": {
      "name": "python3",
      "display_name": "Python 3"
    },
    "language_info": {
      "name": "python"
    }
  },
  "cells": [
    {
      "cell_type": "markdown",
      "metadata": {
        "id": "view-in-github",
        "colab_type": "text"
      },
      "source": [
        "<a href=\"https://colab.research.google.com/github/ranjithdurgunala/ML-LAB-2025-2026/blob/main/Numpy.ipynb\" target=\"_parent\"><img src=\"https://colab.research.google.com/assets/colab-badge.svg\" alt=\"Open In Colab\"/></a>"
      ]
    },
    {
      "cell_type": "markdown",
      "source": [
        "**NumPy**\n",
        "\n",
        "NumPy is a Python library created in 2005 that performs numerical calculations. It is generally used for working with arrays.\n",
        "\n",
        "\n",
        "NumPy also includes a wide range of mathematical functions, such as linear algebra, Fourier transforms, and random number generation, which can be applied to arrays.\n",
        "\n"
      ],
      "metadata": {
        "id": "0xIWKi-kN_TR"
      }
    },
    {
      "cell_type": "markdown",
      "source": [
        "**Why Use Numpy**\n",
        "\n",
        "In Python, we use lists to work with arrays. But when it comes to large array operations, Python lists are not optimized enough.\n",
        "\n",
        "\n",
        "Numpy arrays are optimized for complex mathematical and statistical operations. Operations on NumPy are up to 50x faster than iterating over native Python lists using loops."
      ],
      "metadata": {
        "id": "_JvVbTRZOZTd"
      }
    },
    {
      "cell_type": "markdown",
      "source": [
        "**Import NumPy in Python**"
      ],
      "metadata": {
        "id": "mLzfAbZ0OrAg"
      }
    },
    {
      "cell_type": "code",
      "execution_count": 1,
      "metadata": {
        "id": "DTEMYddzN9Gu"
      },
      "outputs": [],
      "source": [
        "import numpy as np"
      ]
    },
    {
      "cell_type": "markdown",
      "source": [
        "**NumPy Array Creation**"
      ],
      "metadata": {
        "id": "SPxIeAJ4PYy8"
      }
    },
    {
      "cell_type": "code",
      "source": [
        "# create a list named list1\n",
        "list1 = [2, 4, 6, 8]\n",
        "\n",
        "# create numpy array using list1\n",
        "array1 = np.array(list1)\n",
        "\n",
        "print(array1)"
      ],
      "metadata": {
        "colab": {
          "base_uri": "https://localhost:8080/"
        },
        "id": "rCwRzRY9PaPD",
        "outputId": "7895c6da-7ee3-4703-dc61-a79efb11355c"
      },
      "execution_count": 2,
      "outputs": [
        {
          "output_type": "stream",
          "name": "stdout",
          "text": [
            "[2 4 6 8]\n"
          ]
        }
      ]
    },
    {
      "cell_type": "markdown",
      "source": [
        "Instead of creating a list and using the list variable with the np.array() function, we can directly pass list elements as an argument."
      ],
      "metadata": {
        "id": "nbu5zmsaPjcZ"
      }
    },
    {
      "cell_type": "code",
      "source": [
        "# create numpy array using a list\n",
        "array1 = np.array([2, 4, 6, 8])\n",
        "print(array1)"
      ],
      "metadata": {
        "colab": {
          "base_uri": "https://localhost:8080/"
        },
        "id": "inYFrWQ_Pk-P",
        "outputId": "a793527c-db38-4f40-e1a6-cbc4861ad920"
      },
      "execution_count": 3,
      "outputs": [
        {
          "output_type": "stream",
          "name": "stdout",
          "text": [
            "[2 4 6 8]\n"
          ]
        }
      ]
    },
    {
      "cell_type": "markdown",
      "source": [
        "**Create a 2-D NumPy Array**"
      ],
      "metadata": {
        "id": "GVXpjEfsP_Or"
      }
    },
    {
      "cell_type": "code",
      "source": [
        "# create a 2D array with 2 rows and 4 columns\n",
        "array1 = np.array([[1, 2, 3, 4],\n",
        "                  [5, 6, 7, 8]])\n",
        "\n",
        "print(array1)"
      ],
      "metadata": {
        "colab": {
          "base_uri": "https://localhost:8080/"
        },
        "id": "-AopjjhfQBST",
        "outputId": "8b7db58b-c62d-450a-aaed-612c681140e6"
      },
      "execution_count": 4,
      "outputs": [
        {
          "output_type": "stream",
          "name": "stdout",
          "text": [
            "[[1 2 3 4]\n",
            " [5 6 7 8]]\n"
          ]
        }
      ]
    },
    {
      "cell_type": "markdown",
      "source": [
        "**Create a 3-D NumPy Array**"
      ],
      "metadata": {
        "id": "ohKk-IqjQLz_"
      }
    },
    {
      "cell_type": "code",
      "source": [
        "# create a 3D array with 2 \"slices\", each of 3 rows and 4 columns\n",
        "array1 = np.array([[[1, 2, 3, 4],\n",
        "                [5, 6, 7, 8],\n",
        "                [9, 10, 11, 12]],\n",
        "\n",
        "                [[13, 14, 15, 16],\n",
        "                 [17, 18, 19, 20],\n",
        "                 [21, 22, 23, 24]]])\n",
        "\n",
        "print(array1)"
      ],
      "metadata": {
        "colab": {
          "base_uri": "https://localhost:8080/"
        },
        "id": "na1wN0HrQM-x",
        "outputId": "42b198c7-fa33-4f43-8125-c54122276147"
      },
      "execution_count": 5,
      "outputs": [
        {
          "output_type": "stream",
          "name": "stdout",
          "text": [
            "[[[ 1  2  3  4]\n",
            "  [ 5  6  7  8]\n",
            "  [ 9 10 11 12]]\n",
            "\n",
            " [[13 14 15 16]\n",
            "  [17 18 19 20]\n",
            "  [21 22 23 24]]]\n"
          ]
        }
      ]
    },
    {
      "cell_type": "markdown",
      "source": [
        "**Check Data Type of a NumPy Array**"
      ],
      "metadata": {
        "id": "A8gZh017Qu0y"
      }
    },
    {
      "cell_type": "code",
      "source": [
        "# create an array of integers\n",
        "array1 = np.array([2, 4, 6])\n",
        "\n",
        "# check the data type of array1\n",
        "print(array1.dtype)"
      ],
      "metadata": {
        "colab": {
          "base_uri": "https://localhost:8080/"
        },
        "id": "XJJOf7CvQwVi",
        "outputId": "5cdf7a7e-ed1f-42ce-a2c1-3c52d9d31b29"
      },
      "execution_count": 8,
      "outputs": [
        {
          "output_type": "stream",
          "name": "stdout",
          "text": [
            "int64\n"
          ]
        }
      ]
    },
    {
      "cell_type": "markdown",
      "source": [
        "**Check dimensions of an Numpy Array**"
      ],
      "metadata": {
        "id": "Ouk1IWyaRO4Q"
      }
    },
    {
      "cell_type": "code",
      "source": [
        "print(array1.ndim)"
      ],
      "metadata": {
        "colab": {
          "base_uri": "https://localhost:8080/"
        },
        "id": "oUmQjgSbRTDA",
        "outputId": "f2398742-1de1-4a50-b8cb-248bab215126"
      },
      "execution_count": 10,
      "outputs": [
        {
          "output_type": "stream",
          "name": "stdout",
          "text": [
            "1\n"
          ]
        }
      ]
    },
    {
      "cell_type": "markdown",
      "source": [
        "**Check Size of Numpy array**"
      ],
      "metadata": {
        "id": "iVS34ZTtRZVU"
      }
    },
    {
      "cell_type": "code",
      "source": [
        "print(array1.size)"
      ],
      "metadata": {
        "colab": {
          "base_uri": "https://localhost:8080/"
        },
        "id": "Wbx64pUwRYUi",
        "outputId": "d711b055-25af-4c60-d6a6-a671c997c1e5"
      },
      "execution_count": 11,
      "outputs": [
        {
          "output_type": "stream",
          "name": "stdout",
          "text": [
            "3\n"
          ]
        }
      ]
    },
    {
      "cell_type": "markdown",
      "source": [
        "**NumPy Array shape Attribute**\n",
        "\n",
        "In NumPy, the shape attribute returns a tuple of integers that gives the size of the array in each dimension."
      ],
      "metadata": {
        "id": "RcZcRwMaRpPL"
      }
    },
    {
      "cell_type": "code",
      "source": [
        "array1 = np.array([[1, 2, 3],\n",
        "                [6, 7, 8]])\n",
        "\n",
        "# return a tuple that gives size of array in each dimension\n",
        "print(array1.shape)"
      ],
      "metadata": {
        "colab": {
          "base_uri": "https://localhost:8080/"
        },
        "id": "PWW5_ZSFRrKi",
        "outputId": "a54acf72-17cb-41af-e2a9-27aee0b4dd47"
      },
      "execution_count": 12,
      "outputs": [
        {
          "output_type": "stream",
          "name": "stdout",
          "text": [
            "(2, 3)\n"
          ]
        }
      ]
    },
    {
      "cell_type": "markdown",
      "source": [
        "**NumPy Array itemsize Attribute**\n",
        "\n",
        "In NumPy, the itemsize attribute determines size (in bytes) of each element in the array."
      ],
      "metadata": {
        "id": "MYTk2UBXR4vS"
      }
    },
    {
      "cell_type": "code",
      "source": [
        "# create a default 1-D array of integers\n",
        "array1 = np.array([6, 7, 8, 10, 13])\n",
        "\n",
        "# create a 1-D array of 32-bit integers\n",
        "array2 = np.array([6, 7, 8, 10, 13], dtype=np.int32)\n",
        "\n",
        "# use of itemsize to determine size of each array element of array1 and array2\n",
        "print(array1.itemsize)\n",
        "print(array2.itemsize)"
      ],
      "metadata": {
        "colab": {
          "base_uri": "https://localhost:8080/"
        },
        "id": "I9titzEdR6ub",
        "outputId": "33d24c1e-6cd9-4cc0-c4a6-9e723a8dd0e9"
      },
      "execution_count": 13,
      "outputs": [
        {
          "output_type": "stream",
          "name": "stdout",
          "text": [
            "8\n",
            "4\n"
          ]
        }
      ]
    },
    {
      "cell_type": "markdown",
      "source": [
        "**NumPy Array data Attribute**\n",
        "\n",
        "In NumPy, we can get a buffer containing actual elements of the array in memory using the data attribute.\n",
        "\n",
        "In simpler terms, the data attribute is like a pointer to the memory location where the array's data is stored in the computer's memory."
      ],
      "metadata": {
        "id": "eF-Ntrk5SIrd"
      }
    },
    {
      "cell_type": "code",
      "source": [
        "array1 = np.array([6, 7, 8])\n",
        "array2 = np.array([[1, 2, 3],\n",
        "                   \t    [6, 7, 8]])\n",
        "\n",
        "# print memory address of array1's and array2's data\n",
        "print(\"\\nData of array1 is: \",array1.data)\n",
        "print(\"Data of array2 is: \",array2.data)"
      ],
      "metadata": {
        "colab": {
          "base_uri": "https://localhost:8080/"
        },
        "id": "hFv6o_xqSLHo",
        "outputId": "cf74ae3c-d77a-4844-aee3-32f011c5db10"
      },
      "execution_count": 14,
      "outputs": [
        {
          "output_type": "stream",
          "name": "stdout",
          "text": [
            "\n",
            "Data of array1 is:  <memory at 0x78788e91ac80>\n",
            "Data of array2 is:  <memory at 0x78788df7b030>\n"
          ]
        }
      ]
    },
    {
      "cell_type": "markdown",
      "source": [
        "**Access Array Elements Using Index**"
      ],
      "metadata": {
        "id": "nC2QbNlwSpCk"
      }
    },
    {
      "cell_type": "code",
      "source": [
        "array1 = np.array([1, 3, 5, 7, 9])\n",
        "\n",
        "# access numpy elements using index\n",
        "print(array1[0])\n",
        "print(array1[2])\n",
        "print(array1[4])"
      ],
      "metadata": {
        "colab": {
          "base_uri": "https://localhost:8080/"
        },
        "id": "F3zSMDIASuMk",
        "outputId": "6d5ec569-743d-45af-8839-8272686f2c40"
      },
      "execution_count": 15,
      "outputs": [
        {
          "output_type": "stream",
          "name": "stdout",
          "text": [
            "1\n",
            "5\n",
            "9\n"
          ]
        }
      ]
    },
    {
      "cell_type": "markdown",
      "source": [
        "**Modify Array Elements Using Index**"
      ],
      "metadata": {
        "id": "pRg2x043S2-D"
      }
    },
    {
      "cell_type": "code",
      "source": [
        "array1[1]=10\n",
        "print(array1)"
      ],
      "metadata": {
        "colab": {
          "base_uri": "https://localhost:8080/"
        },
        "id": "dFqofurUS4IO",
        "outputId": "f836252d-05d3-43f2-98ed-1831869eb486"
      },
      "execution_count": 17,
      "outputs": [
        {
          "output_type": "stream",
          "name": "stdout",
          "text": [
            "[ 1 10  5  7  9]\n"
          ]
        }
      ]
    },
    {
      "cell_type": "markdown",
      "source": [
        "**2-D NumPy Array Indexing**"
      ],
      "metadata": {
        "id": "2Sh91VMBTNxZ"
      }
    },
    {
      "cell_type": "code",
      "source": [
        "# create a 2D array\n",
        "array1 = np.array([[1, 3, 5, 7],\n",
        "                       [9, 11, 13, 15],\n",
        "                       [2, 4, 6, 8]])\n",
        "\n",
        "\n",
        "# access the element at the second row and fourth column\n",
        "element1 = array1[1, 3]  # returns 15\n",
        "print(\"4th Element at 2nd Row:\",element1)\n",
        "\n",
        "# access the element at the first row and second column\n",
        "element2 = array1[0, 1]  # returns 3\n",
        "print(\"2nd Element at First Row:\",element2)"
      ],
      "metadata": {
        "colab": {
          "base_uri": "https://localhost:8080/"
        },
        "id": "f9J4vwP0TSA6",
        "outputId": "b0b45e13-0285-45d5-a57e-92872a303392"
      },
      "execution_count": 18,
      "outputs": [
        {
          "output_type": "stream",
          "name": "stdout",
          "text": [
            "4th Element at 2nd Row: 15\n",
            "2nd Element at First Row: 3\n"
          ]
        }
      ]
    },
    {
      "cell_type": "markdown",
      "source": [
        "**NumPy Statistical Functions**\n",
        "\n",
        "Functions\n",
        "\n",
        "median()\treturn the median of an array\n",
        "\n",
        "mean()\treturn the mean of an array\n",
        "\n",
        "std()\treturn the standard deviation of an array\n",
        "\n",
        "percentile()\treturn the nth percentile of elements in an array\n",
        "\n",
        "min()\treturn the minimum element of an array\n",
        "\n",
        "max()\treturn the maximum element of an array"
      ],
      "metadata": {
        "id": "wYZUpCZ3T7pn"
      }
    },
    {
      "cell_type": "code",
      "source": [
        "# create a 1D array with 5 elements\n",
        "array1 = np.array([1, 2, 3, 4, 5])\n",
        "\n",
        "# calculate the median\n",
        "median = np.median(array1)\n",
        "\n",
        "print(median)"
      ],
      "metadata": {
        "colab": {
          "base_uri": "https://localhost:8080/"
        },
        "id": "3UWezyuST82v",
        "outputId": "c4602588-c91e-40d1-c566-ec6f1c549771"
      },
      "execution_count": 19,
      "outputs": [
        {
          "output_type": "stream",
          "name": "stdout",
          "text": [
            "3.0\n"
          ]
        }
      ]
    },
    {
      "cell_type": "markdown",
      "source": [
        "**Compute Mean Using NumPy**"
      ],
      "metadata": {
        "id": "sHd2fBMMUipB"
      }
    },
    {
      "cell_type": "code",
      "source": [
        "# create a numpy array\n",
        "marks = np.array([76, 78, 81, 66, 85])\n",
        "\n",
        "# compute the mean of marks\n",
        "mean_marks = np.mean(marks)\n",
        "\n",
        "print(mean_marks)"
      ],
      "metadata": {
        "colab": {
          "base_uri": "https://localhost:8080/"
        },
        "id": "MHPfM99_Uj-V",
        "outputId": "2ce5a06f-88dd-4552-e2d4-228a67b9b8d2"
      },
      "execution_count": 20,
      "outputs": [
        {
          "output_type": "stream",
          "name": "stdout",
          "text": [
            "77.2\n"
          ]
        }
      ]
    },
    {
      "cell_type": "markdown",
      "source": [
        "**Standard Deviation of NumPy Array**"
      ],
      "metadata": {
        "id": "j1A7k48lUqaH"
      }
    },
    {
      "cell_type": "code",
      "source": [
        "# create a numpy array\n",
        "marks = np.array([76, 78, 81, 66, 85])\n",
        "\n",
        "# compute the standard deviation of marks\n",
        "std_marks = np.std(marks)\n",
        "print(std_marks)"
      ],
      "metadata": {
        "colab": {
          "base_uri": "https://localhost:8080/"
        },
        "id": "4x5kBW4-Urz4",
        "outputId": "218d157a-ebab-42a1-887d-aeccd5fd3056"
      },
      "execution_count": 21,
      "outputs": [
        {
          "output_type": "stream",
          "name": "stdout",
          "text": [
            "6.368673331236263\n"
          ]
        }
      ]
    }
  ]
}